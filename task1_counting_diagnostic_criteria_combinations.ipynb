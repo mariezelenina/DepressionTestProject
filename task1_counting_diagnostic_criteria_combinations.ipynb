{
 "cells": [
  {
   "cell_type": "code",
   "execution_count": 53,
   "metadata": {},
   "outputs": [],
   "source": [
    "import itertools\n",
    "import random"
   ]
  },
  {
   "cell_type": "code",
   "execution_count": 54,
   "metadata": {},
   "outputs": [],
   "source": [
    "depression_subcriteria = {\"A1\": \"depressed mood...\",\n",
    "                         \"A2\": \"markedly diminished interest or pleasure...\",\n",
    "                         \"A3\": \"significant weight loss...\",\n",
    "                         \"A4\": \"imsomnia or hypersomnia...\",\n",
    "                         \"A5\": \"psychomotor agitation or retardation...\",\n",
    "                         \"A6\": \"fatigue or loss of energy...\",\n",
    "                         \"A7\": \"feelings of worthlessness or excessive or inappropriate guilt...\",\n",
    "                         \"A8\": \"diminished ability to think or concentrate, or indecisiveness, nearly every day(either by subjective account or as observed by others\",\n",
    "                         \"A9\": \"recurrent thoughts of death...\"}\n",
    "depression_list = list(depression_subcriteria.keys())\n",
    "# for the task, it is enough to just have a list of subcriteria indices. But, I wanted to have an option to output the actual lists of criteria that can be used to diagnose MDD. For that, I need a dictironary. "
   ]
  },
  {
   "cell_type": "markdown",
   "metadata": {},
   "source": [
    "#### We iterate through all possible compinations of depression subcriteria and only output those that have A1 and/or A2.\n",
    "#### It is a brute-force approach, which is generally computationally expensive. But, since we only have 9 criteria, it is not an issue.\n",
    "#### On the pro side, it is simple and intuitive"
   ]
  },
  {
   "cell_type": "code",
   "execution_count": 55,
   "metadata": {},
   "outputs": [],
   "source": [
    "# all possible combinations of desired length\n",
    "all_combinations = [list(subset) for i in range(5, len(depression_list))\n",
    "                  for subset in itertools.combinations(depression_list, i)]"
   ]
  },
  {
   "cell_type": "code",
   "execution_count": 56,
   "metadata": {},
   "outputs": [
    {
     "name": "stdout",
     "output_type": "stream",
     "text": [
      "There are 226 good combinations.\n"
     ]
    }
   ],
   "source": [
    "# count combinations that include criterion A1 and/or A2\n",
    "count = 0\n",
    "for combination in all_combinations:\n",
    "    if 'A1' in combination or 'A2' in combination:\n",
    "        count += 1\n",
    "print('There are %s good combinations.' %str(len(good_combinations)))"
   ]
  },
  {
   "cell_type": "code",
   "execution_count": 57,
   "metadata": {},
   "outputs": [
    {
     "name": "stdout",
     "output_type": "stream",
     "text": [
      "The number of good combinations is: 226\n",
      "One of those combinations is: ['markedly diminished interest or pleasure...', 'significant weight loss...', 'psychomotor agitation or retardation...', 'fatigue or loss of energy...', 'diminished ability to think or concentrate, or indecisiveness, nearly every day(either by subjective account or as observed by others', 'recurrent thoughts of death...']\n"
     ]
    }
   ],
   "source": [
    "# ADDITIONALLY\n",
    "# if we needed to also save all the valid combinations, we would take this approach:\n",
    "\n",
    "good_combinations = []\n",
    "for combination in all_combinations:\n",
    "    if 'A1' in combination or 'A2' in combination:\n",
    "        good_combinations.append(combination)\n",
    "\n",
    "print('The number of good combinations is:', len(good_combinations))\n",
    "# Printing a random combinations\n",
    "print('One of those combinations is:', [depression_subcriteria[x] for x in random.choice(good_combinations)])"
   ]
  }
 ],
 "metadata": {
  "kernelspec": {
   "display_name": "Python 3",
   "language": "python",
   "name": "python3"
  },
  "language_info": {
   "codemirror_mode": {
    "name": "ipython",
    "version": 3
   },
   "file_extension": ".py",
   "mimetype": "text/x-python",
   "name": "python",
   "nbconvert_exporter": "python",
   "pygments_lexer": "ipython3",
   "version": "3.7.2"
  }
 },
 "nbformat": 4,
 "nbformat_minor": 2
}
