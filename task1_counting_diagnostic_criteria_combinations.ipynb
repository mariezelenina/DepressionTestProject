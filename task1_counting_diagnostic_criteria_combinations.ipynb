{
 "cells": [
  {
   "cell_type": "markdown",
   "metadata": {},
   "source": [
    "# Task 1"
   ]
  },
  {
   "cell_type": "code",
   "execution_count": 1,
   "metadata": {},
   "outputs": [],
   "source": [
    "import itertools\n",
    "import random"
   ]
  },
  {
   "cell_type": "code",
   "execution_count": 2,
   "metadata": {},
   "outputs": [],
   "source": [
    "depression_subcriteria = {\"A1\": \"depressed mood...\",\n",
    "                         \"A2\": \"markedly diminished interest or pleasure...\",\n",
    "                         \"A3\": \"significant weight loss...\",\n",
    "                         \"A4\": \"imsomnia or hypersomnia...\",\n",
    "                         \"A5\": \"psychomotor agitation or retardation...\",\n",
    "                         \"A6\": \"fatigue or loss of energy...\",\n",
    "                         \"A7\": \"feelings of worthlessness or excessive or inappropriate guilt...\",\n",
    "                         \"A8\": \"diminished ability to think or concentrate, or indecisiveness, nearly every day(either by subjective account or as observed by others\",\n",
    "                         \"A9\": \"recurrent thoughts of death...\"}\n",
    "depression_list = list(depression_subcriteria.keys())\n",
    "# for the task, it is enough to just have a list of subcriteria indices. But, I wanted to have an option to output the actual lists of criteria that can be used to diagnose MDD. For that, I need a dictironary. "
   ]
  },
  {
   "cell_type": "markdown",
   "metadata": {},
   "source": [
    "#### We iterate through all possible compinations of depression subcriteria and only output those that have A1 and/or A2.\n",
    "#### It is a brute-force approach, which is generally computationally expensive. But, since we only have 9 criteria, it is not an issue.\n",
    "#### On the pro side, it is simple and intuitive"
   ]
  },
  {
   "cell_type": "code",
   "execution_count": 3,
   "metadata": {},
   "outputs": [],
   "source": [
    "# all possible combinations of desired length\n",
    "all_combinations = [list(subset) for i in range(5, len(depression_list)+1)\n",
    "                  for subset in itertools.combinations(depression_list, i)]"
   ]
  },
  {
   "cell_type": "code",
   "execution_count": 4,
   "metadata": {},
   "outputs": [
    {
     "name": "stdout",
     "output_type": "stream",
     "text": [
      "There are 227 good combinations.\n"
     ]
    }
   ],
   "source": [
    "# count combinations that include criterion A1 and/or A2\n",
    "count = 0\n",
    "for combination in all_combinations:\n",
    "    if 'A1' in combination or 'A2' in combination:\n",
    "        count += 1\n",
    "print('There are %s good combinations.' %str(count))"
   ]
  },
  {
   "cell_type": "code",
   "execution_count": 5,
   "metadata": {},
   "outputs": [
    {
     "name": "stdout",
     "output_type": "stream",
     "text": [
      "The number of good combinations is: 227\n",
      "One of those combinations is: ['depressed mood...', 'markedly diminished interest or pleasure...', 'significant weight loss...', 'imsomnia or hypersomnia...', 'diminished ability to think or concentrate, or indecisiveness, nearly every day(either by subjective account or as observed by others', 'recurrent thoughts of death...']\n"
     ]
    }
   ],
   "source": [
    "# ADDITIONALLY\n",
    "# if we needed to also save all the valid combinations, we would take this approach:\n",
    "\n",
    "good_combinations = []\n",
    "for combination in all_combinations:\n",
    "    if 'A1' in combination or 'A2' in combination:\n",
    "        good_combinations.append(combination)\n",
    "\n",
    "print('The number of good combinations is:', len(good_combinations))\n",
    "# Printing a random combinations\n",
    "print('One of those combinations is:', [depression_subcriteria[x] for x in random.choice(good_combinations)])"
   ]
  },
  {
   "cell_type": "markdown",
   "metadata": {},
   "source": [
    "# Task 2"
   ]
  },
  {
   "cell_type": "markdown",
   "metadata": {},
   "source": [
    "#### Some calculations to assist me in task 2\n",
    "##### How many times we have each unique sub-criterion?"
   ]
  },
  {
   "cell_type": "code",
   "execution_count": 6,
   "metadata": {},
   "outputs": [
    {
     "name": "stdout",
     "output_type": "stream",
     "text": [
      "A1 163\n",
      "A2 163\n",
      "A3 141\n",
      "A4 141\n",
      "A5 141\n",
      "A6 141\n",
      "A7 141\n",
      "A8 141\n",
      "A9 141\n"
     ]
    }
   ],
   "source": [
    "flat_list = [item for sublist in good_combinations for item in sublist]\n",
    "for i in depression_list:\n",
    "    print(i, flat_list.count(i))"
   ]
  },
  {
   "cell_type": "markdown",
   "metadata": {},
   "source": [
    "##### How many times A1 and A2 appear together vs. how many times A1 appears with any other sub-criterion?"
   ]
  },
  {
   "cell_type": "code",
   "execution_count": 7,
   "metadata": {},
   "outputs": [
    {
     "name": "stdout",
     "output_type": "stream",
     "text": [
      "99\n",
      "99\n",
      "83\n"
     ]
    }
   ],
   "source": [
    "counter_a1_a2 = 0\n",
    "counter_a1_a7 = 0\n",
    "counter_a4_a7 = 0\n",
    "for c in good_combinations:\n",
    "    if 'A1' in c and 'A2' in c:\n",
    "        counter_a1_a2+=1\n",
    "    if 'A1' in c and 'A7' in c:\n",
    "        counter_a1_a7+=1\n",
    "    if 'A4' in c and 'A7' in c:\n",
    "        counter_a4_a7+=1\n",
    "print(counter_a1_a2)\n",
    "print(counter_a1_a7)\n",
    "print(counter_a4_a7)"
   ]
  },
  {
   "cell_type": "markdown",
   "metadata": {},
   "source": [
    "##### How many unique combinations we would have if we could remove one crierion? What about two or more?\n"
   ]
  },
  {
   "cell_type": "code",
   "execution_count": 10,
   "metadata": {},
   "outputs": [
    {
     "name": "stdout",
     "output_type": "stream",
     "text": [
      "There are 28 good combinations.\n"
     ]
    }
   ],
   "source": [
    "criteria_removed = 2;\n",
    "depression_list = list(depression_subcriteria.keys())\n",
    "depression_list = depression_list[:-criteria_removed] \n",
    "all_combinations = [list(subset) for i in range(5, len(depression_list)+1)\n",
    "                  for subset in itertools.combinations(depression_list, i)]\n",
    "count = 0\n",
    "for combination in all_combinations:\n",
    "    if 'A1' in combination or 'A2' in combination:\n",
    "        count += 1\n",
    "        #print(combination)\n",
    "print('There are %s good combinations.' %str(count))\n"
   ]
  },
  {
   "cell_type": "markdown",
   "metadata": {},
   "source": [
    "##### Removing 1 criterion results in 86 possible combinations\n",
    "##### Removing 2 criteria results in 28 possible combinations\n",
    "##### Removing 3 criteria results in only 7 possible combinations"
   ]
  },
  {
   "cell_type": "markdown",
   "metadata": {},
   "source": [
    "#### How many possbile comparisons there are between those combinations?"
   ]
  },
  {
   "cell_type": "code",
   "execution_count": 16,
   "metadata": {},
   "outputs": [
    {
     "name": "stdout",
     "output_type": "stream",
     "text": [
      "25651.0\n"
     ]
    }
   ],
   "source": [
    "combinations = 227 # 227 or 86 or 28 or 7\n",
    "\n",
    "k = combinations*(combinations-1)/2\n",
    "\n",
    "print(k)"
   ]
  },
  {
   "cell_type": "markdown",
   "metadata": {},
   "source": [
    "##### 227 combinations - 25651 comparisons\n",
    "##### 86 combinations - 3655 comparisons\n",
    "##### 28 combinations - 378 comparisons\n",
    "##### 7 combinations - 21 comparisons"
   ]
  },
  {
   "cell_type": "markdown",
   "metadata": {},
   "source": [
    "#### Plot for correlation matrix"
   ]
  },
  {
   "cell_type": "code",
   "execution_count": 26,
   "metadata": {},
   "outputs": [
    {
     "data": {
      "image/png": "[encoded data removed]",
      "text/plain": [
       "<Figure size 576x576 with 2 Axes>"
      ]
     },
     "metadata": {
      "needs_background": "light"
     },
     "output_type": "display_data"
    }
   ],
   "source": [
    "import pandas as pd\n",
    "import numpy as np\n",
    "import seaborn as sns\n",
    "import matplotlib.pyplot as plt\n",
    "\n",
    "rs = np.random.RandomState(0)\n",
    "df = pd.DataFrame(rs.rand(9, 9))\n",
    "corr_matrix = df.corr()\n",
    "mask = np.zeros_like(corr_matrix, dtype=np.bool)\n",
    "mask[np.triu_indices_from(mask)]= True\n",
    "mask[1,0]=True #because we are not interested in cross-correlating sub-criteria A1 and A2\n",
    "\n",
    "\n",
    "f, ax = plt.subplots(figsize=(8, 8)) \n",
    "heatmap = sns.heatmap(corr_matrix, \n",
    "                      mask = mask,\n",
    "                      square = False,\n",
    "                      cmap = 'RdBu',\n",
    "                      cbar_kws = {'shrink': .8, 'ticks' : [-1, -.5, 0, 0.5, 1]},\n",
    "                      vmin = -1, \n",
    "                      vmax = 1,\n",
    "                      annot = True,\n",
    "                      annot_kws = {'size': 10},\n",
    "                     )\n",
    "ax.set_yticklabels(list(depression_subcriteria.keys()), rotation = 0)\n",
    "ax.set_xticklabels(list(depression_subcriteria.keys()))\n",
    "sns.set_style({'xtick.bottom': True}, {'ytick.left': True})\n"
   ]
  },
  {
   "cell_type": "code",
   "execution_count": 29,
   "metadata": {},
   "outputs": [],
   "source": [
    "heatmap.get_figure().savefig('heatmap.png')"
   ]
  },
  {
   "cell_type": "code",
   "execution_count": 24,
   "metadata": {},
   "outputs": [
    {
     "name": "stdout",
     "output_type": "stream",
     "text": [
      "Top Absolute Correlations\n",
      "5  7    0.792286\n",
      "3  5    0.645247\n",
      "dtype: float64\n"
     ]
    }
   ],
   "source": []
  },
  {
   "cell_type": "code",
   "execution_count": null,
   "metadata": {},
   "outputs": [],
   "source": []
  }
 ],
 "metadata": {
  "kernelspec": {
   "display_name": "Python 3",
   "language": "python",
   "name": "python3"
  },
  "language_info": {
   "codemirror_mode": {
    "name": "ipython",
    "version": 3
   },
   "file_extension": ".py",
   "mimetype": "text/x-python",
   "name": "python",
   "nbconvert_exporter": "python",
   "pygments_lexer": "ipython3",
   "version": "3.7.2"
  }
 },
 "nbformat": 4,
 "nbformat_minor": 2
}
